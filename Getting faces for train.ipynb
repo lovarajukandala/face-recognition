{
 "cells": [
  {
   "cell_type": "code",
   "execution_count": 13,
   "metadata": {},
   "outputs": [],
   "source": [
    "import cv2\n",
    "import numpy as np"
   ]
  },
  {
   "cell_type": "code",
   "execution_count": 14,
   "metadata": {},
   "outputs": [],
   "source": [
    "faceDetector=cv2.CascadeClassifier('/home/lov/Documents/lbpfacedetection')"
   ]
  },
  {
   "cell_type": "code",
   "execution_count": 15,
   "metadata": {},
   "outputs": [],
   "source": [
    "def capture():\n",
    "    cam=cv2.VideoCapture(0)\n",
    "    id=int(input('PLEASE ENTER THE USER ID:'))\n",
    "    SampleNum=0\n",
    "    ret,img=cam.read()\n",
    "    print(img)\n",
    "    while(True):\n",
    "        ret,img=cam.read()\n",
    "        gray=cv2.cvtColor(img,cv2.COLOR_BGR2GRAY)\n",
    "        faces=faceDetector.detectMultiScale(gray,1.2,5)\n",
    "        for(x,y,w,h) in faces:\n",
    "            SampleNum+=1\n",
    "            cv2.imwrite('dataset/user.'+str(id)+'.'+str(SampleNum)+'.jpg',gray[y:y+h,x:x+w])\n",
    "            cv2.rectangle(img,(x,y),(x+w,y+h),(0,0,255),2)\n",
    "            cv2.waitKey(100)\n",
    "        cv2.imshow('Face',img)\n",
    "        cv2.waitKey(1)\n",
    "        if(SampleNum>40):\n",
    "            break\n",
    "    cam.release()\n",
    "    cv2.destroyAllWindows()"
   ]
  },
  {
   "cell_type": "code",
   "execution_count": 16,
   "metadata": {},
   "outputs": [
    {
     "name": "stdout",
     "output_type": "stream",
     "text": [
      "PLEASE ENTER THE USER ID:5\n",
      "[[[ 75  87  85]\n",
      "  [ 71  83  81]\n",
      "  [ 70  83  79]\n",
      "  ...\n",
      "  [ 61  75  66]\n",
      "  [ 63  78  69]\n",
      "  [ 60  74  65]]\n",
      "\n",
      " [[ 73  84  84]\n",
      "  [ 70  81  82]\n",
      "  [ 69  81  79]\n",
      "  ...\n",
      "  [ 61  76  65]\n",
      "  [ 61  75  66]\n",
      "  [ 60  74  65]]\n",
      "\n",
      " [[ 70  81  82]\n",
      "  [ 69  80  81]\n",
      "  [ 68  79  80]\n",
      "  ...\n",
      "  [ 60  79  64]\n",
      "  [ 59  76  66]\n",
      "  [ 60  77  67]]\n",
      "\n",
      " ...\n",
      "\n",
      " [[ 56  62  72]\n",
      "  [ 56  62  72]\n",
      "  [ 57  60  71]\n",
      "  ...\n",
      "  [103 147 167]\n",
      "  [101 145 175]\n",
      "  [ 99 144 173]]\n",
      "\n",
      " [[ 57  63  73]\n",
      "  [ 56  62  72]\n",
      "  [ 58  61  72]\n",
      "  ...\n",
      "  [ 97 149 168]\n",
      "  [ 96 148 176]\n",
      "  [ 95 147 175]]\n",
      "\n",
      " [[ 59  62  73]\n",
      "  [ 58  61  72]\n",
      "  [ 58  64  67]\n",
      "  ...\n",
      "  [ 98 151 169]\n",
      "  [ 98 147 176]\n",
      "  [ 98 147 176]]]\n"
     ]
    }
   ],
   "source": [
    "capture()"
   ]
  },
  {
   "cell_type": "code",
   "execution_count": null,
   "metadata": {},
   "outputs": [],
   "source": []
  },
  {
   "cell_type": "code",
   "execution_count": null,
   "metadata": {},
   "outputs": [],
   "source": []
  }
 ],
 "metadata": {
  "kernelspec": {
   "display_name": "Python 3",
   "language": "python",
   "name": "python3"
  },
  "language_info": {
   "codemirror_mode": {
    "name": "ipython",
    "version": 3
   },
   "file_extension": ".py",
   "mimetype": "text/x-python",
   "name": "python",
   "nbconvert_exporter": "python",
   "pygments_lexer": "ipython3",
   "version": "3.6.8"
  }
 },
 "nbformat": 4,
 "nbformat_minor": 2
}
